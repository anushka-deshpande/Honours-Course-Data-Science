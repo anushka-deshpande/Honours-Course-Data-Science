{
  "nbformat": 4,
  "nbformat_minor": 0,
  "metadata": {
    "colab": {
      "name": "DSHC_Assignment_4.ipynb",
      "provenance": []
    },
    "kernelspec": {
      "name": "python3",
      "display_name": "Python 3"
    },
    "language_info": {
      "name": "python"
    }
  },
  "cells": [
    {
      "cell_type": "markdown",
      "metadata": {
        "id": "EfE9YveLidJX"
      },
      "source": [
        "# Assignment 4: Netflix Movies and TV"
      ]
    },
    {
      "cell_type": "markdown",
      "metadata": {
        "id": "JKKutNImzzB9"
      },
      "source": [
        "### Load the Datatset"
      ]
    },
    {
      "cell_type": "code",
      "metadata": {
        "id": "FQDqyi_o9Ri_"
      },
      "source": [
        "import numpy as np\n",
        "import pandas as pd\n",
        "import matplotlib.pyplot as plt\n",
        "import seaborn as sns\n",
        "\n",
        "netflix = pd.read_csv('netflix_titles.csv')"
      ],
      "execution_count": null,
      "outputs": []
    },
    {
      "cell_type": "code",
      "metadata": {
        "colab": {
          "base_uri": "https://localhost:8080/",
          "height": 618
        },
        "id": "eE_FJE5C-dao",
        "outputId": "727d47c0-2460-4266-e05f-64c2b82b5341"
      },
      "source": [
        "netflix.sample(5)"
      ],
      "execution_count": null,
      "outputs": [
        {
          "output_type": "execute_result",
          "data": {
            "text/html": [
              "<div>\n",
              "<style scoped>\n",
              "    .dataframe tbody tr th:only-of-type {\n",
              "        vertical-align: middle;\n",
              "    }\n",
              "\n",
              "    .dataframe tbody tr th {\n",
              "        vertical-align: top;\n",
              "    }\n",
              "\n",
              "    .dataframe thead th {\n",
              "        text-align: right;\n",
              "    }\n",
              "</style>\n",
              "<table border=\"1\" class=\"dataframe\">\n",
              "  <thead>\n",
              "    <tr style=\"text-align: right;\">\n",
              "      <th></th>\n",
              "      <th>show_id</th>\n",
              "      <th>type</th>\n",
              "      <th>title</th>\n",
              "      <th>director</th>\n",
              "      <th>cast</th>\n",
              "      <th>country</th>\n",
              "      <th>date_added</th>\n",
              "      <th>release_year</th>\n",
              "      <th>rating</th>\n",
              "      <th>duration</th>\n",
              "      <th>listed_in</th>\n",
              "      <th>description</th>\n",
              "    </tr>\n",
              "  </thead>\n",
              "  <tbody>\n",
              "    <tr>\n",
              "      <th>5102</th>\n",
              "      <td>s5103</td>\n",
              "      <td>TV Show</td>\n",
              "      <td>Ratched</td>\n",
              "      <td>NaN</td>\n",
              "      <td>Sarah Paulson, Finn Wittrock, Judy Davis, Shar...</td>\n",
              "      <td>United States</td>\n",
              "      <td>September 18, 2020</td>\n",
              "      <td>2020</td>\n",
              "      <td>TV-MA</td>\n",
              "      <td>1 Season</td>\n",
              "      <td>TV Dramas, TV Horror, TV Mysteries</td>\n",
              "      <td>In 1947, Mildred Ratched begins working as a n...</td>\n",
              "    </tr>\n",
              "    <tr>\n",
              "      <th>5146</th>\n",
              "      <td>s5147</td>\n",
              "      <td>TV Show</td>\n",
              "      <td>Reign</td>\n",
              "      <td>NaN</td>\n",
              "      <td>Adelaide Kane, Megan Follows, Torrance Coombs,...</td>\n",
              "      <td>United States</td>\n",
              "      <td>September 5, 2017</td>\n",
              "      <td>2017</td>\n",
              "      <td>TV-14</td>\n",
              "      <td>4 Seasons</td>\n",
              "      <td>TV Dramas</td>\n",
              "      <td>This vivid historical drama series tells of th...</td>\n",
              "    </tr>\n",
              "    <tr>\n",
              "      <th>4982</th>\n",
              "      <td>s4983</td>\n",
              "      <td>Movie</td>\n",
              "      <td>Professor Mack</td>\n",
              "      <td>Christopher Nolen</td>\n",
              "      <td>Lisa Wu, Timon Kyle Durrett, Robert Christophe...</td>\n",
              "      <td>United States</td>\n",
              "      <td>August 6, 2019</td>\n",
              "      <td>2018</td>\n",
              "      <td>TV-MA</td>\n",
              "      <td>84 min</td>\n",
              "      <td>Comedies, Romantic Movies</td>\n",
              "      <td>When a confident college professor is courted ...</td>\n",
              "    </tr>\n",
              "    <tr>\n",
              "      <th>7421</th>\n",
              "      <td>s7422</td>\n",
              "      <td>Movie</td>\n",
              "      <td>Vince and Kath and James</td>\n",
              "      <td>Theodore Boborol</td>\n",
              "      <td>Julia Barretto, Joshua Garcia, Ronnie Alonte, ...</td>\n",
              "      <td>Philippines</td>\n",
              "      <td>March 21, 2019</td>\n",
              "      <td>2016</td>\n",
              "      <td>TV-PG</td>\n",
              "      <td>115 min</td>\n",
              "      <td>International Movies, Romantic Movies</td>\n",
              "      <td>Love can be complicated, especially when Vince...</td>\n",
              "    </tr>\n",
              "    <tr>\n",
              "      <th>5783</th>\n",
              "      <td>s5784</td>\n",
              "      <td>Movie</td>\n",
              "      <td>Standoff</td>\n",
              "      <td>Adam Alleca</td>\n",
              "      <td>Thomas Jane, Laurence Fishburne, Joanna Dougla...</td>\n",
              "      <td>Canada</td>\n",
              "      <td>December 11, 2018</td>\n",
              "      <td>2015</td>\n",
              "      <td>R</td>\n",
              "      <td>86 min</td>\n",
              "      <td>Action &amp; Adventure</td>\n",
              "      <td>After witnessing an assassin's slaughter, a yo...</td>\n",
              "    </tr>\n",
              "  </tbody>\n",
              "</table>\n",
              "</div>"
            ],
            "text/plain": [
              "     show_id  ...                                        description\n",
              "5102   s5103  ...  In 1947, Mildred Ratched begins working as a n...\n",
              "5146   s5147  ...  This vivid historical drama series tells of th...\n",
              "4982   s4983  ...  When a confident college professor is courted ...\n",
              "7421   s7422  ...  Love can be complicated, especially when Vince...\n",
              "5783   s5784  ...  After witnessing an assassin's slaughter, a yo...\n",
              "\n",
              "[5 rows x 12 columns]"
            ]
          },
          "metadata": {
            "tags": []
          },
          "execution_count": 45
        }
      ]
    },
    {
      "cell_type": "markdown",
      "metadata": {
        "id": "r7bU6bokz2Q0"
      },
      "source": [
        "### Preprocess some Data"
      ]
    },
    {
      "cell_type": "code",
      "metadata": {
        "colab": {
          "base_uri": "https://localhost:8080/"
        },
        "id": "1CCgyMpBAR1q",
        "outputId": "6fc0d6a4-ac19-447d-8905-c8110db4a870"
      },
      "source": [
        "netflix.isnull().sum()"
      ],
      "execution_count": null,
      "outputs": [
        {
          "output_type": "execute_result",
          "data": {
            "text/plain": [
              "show_id            0\n",
              "type               0\n",
              "title              0\n",
              "director        2389\n",
              "cast             718\n",
              "country          507\n",
              "date_added        10\n",
              "release_year       0\n",
              "rating             7\n",
              "duration           0\n",
              "listed_in          0\n",
              "description        0\n",
              "dtype: int64"
            ]
          },
          "metadata": {
            "tags": []
          },
          "execution_count": 46
        }
      ]
    },
    {
      "cell_type": "code",
      "metadata": {
        "id": "6aohX9UaFEZ6"
      },
      "source": [
        "netflix.director.fillna(\"No Director\", inplace=True)\n",
        "netflix.cast.fillna(\"No Cast\", inplace=True)\n",
        "netflix.country.fillna(\"Country Unavailable\", inplace=True)\n",
        "netflix.dropna(subset=[\"date_added\", \"rating\"], inplace=True)"
      ],
      "execution_count": null,
      "outputs": []
    },
    {
      "cell_type": "code",
      "metadata": {
        "colab": {
          "base_uri": "https://localhost:8080/"
        },
        "id": "hLNG3FX3FLj0",
        "outputId": "d6e9c460-a349-443b-81e5-7f80ace7cd69"
      },
      "source": [
        "netflix.isnull().sum()"
      ],
      "execution_count": null,
      "outputs": [
        {
          "output_type": "execute_result",
          "data": {
            "text/plain": [
              "show_id         0\n",
              "type            0\n",
              "title           0\n",
              "director        0\n",
              "cast            0\n",
              "country         0\n",
              "date_added      0\n",
              "release_year    0\n",
              "rating          0\n",
              "duration        0\n",
              "listed_in       0\n",
              "description     0\n",
              "dtype: int64"
            ]
          },
          "metadata": {
            "tags": []
          },
          "execution_count": 48
        }
      ]
    },
    {
      "cell_type": "code",
      "metadata": {
        "colab": {
          "base_uri": "https://localhost:8080/"
        },
        "id": "zxWaDam5jmgn",
        "outputId": "d16ff493-8ae0-458a-9d47-55ad9da13231"
      },
      "source": [
        "netflix.nunique()"
      ],
      "execution_count": null,
      "outputs": [
        {
          "output_type": "execute_result",
          "data": {
            "text/plain": [
              "show_id         7770\n",
              "type               2\n",
              "title           7770\n",
              "director        4048\n",
              "cast            6818\n",
              "country          682\n",
              "date_added      1563\n",
              "release_year      73\n",
              "rating            14\n",
              "duration         216\n",
              "listed_in        491\n",
              "description     7752\n",
              "dtype: int64"
            ]
          },
          "metadata": {
            "tags": []
          },
          "execution_count": 49
        }
      ]
    },
    {
      "cell_type": "markdown",
      "metadata": {
        "id": "QZsXYFpfFTXP"
      },
      "source": [
        "### Netflix Content By Type - number of movies and shows\n",
        "\n",
        "Display the ration of movies to tv shows in the dataset"
      ]
    },
    {
      "cell_type": "code",
      "metadata": {
        "colab": {
          "base_uri": "https://localhost:8080/",
          "height": 373
        },
        "id": "qMbPmIWXFQMm",
        "outputId": "adba544d-90ba-4650-934b-7fa7368db596"
      },
      "source": [
        "plt.figure(figsize=(12,6))\n",
        "plt.title(\"Percentation of Netflix Titles that are either Movies or TV Shows\")\n",
        "g = plt.pie(netflix.type.value_counts(),explode=(0.025,0.025), labels=netflix.type.value_counts().index, colors=['blue','green'],autopct='%1.1f%%', startangle=180)\n",
        "plt.show()"
      ],
      "execution_count": null,
      "outputs": [
        {
          "output_type": "display_data",
          "data": {
            "image/png": "[encoded data removed]",
            "text/plain": [
              "<Figure size 864x432 with 1 Axes>"
            ]
          },
          "metadata": {
            "tags": []
          }
        }
      ]
    },
    {
      "cell_type": "markdown",
      "metadata": {
        "id": "9GUdbhbg0FJT"
      },
      "source": [
        "### Kids Content\n",
        "\n",
        "Kids TV shows and Movies on Netflix"
      ]
    },
    {
      "cell_type": "code",
      "metadata": {
        "colab": {
          "base_uri": "https://localhost:8080/",
          "height": 635
        },
        "id": "1P2-9fjyt-nR",
        "outputId": "e03c61aa-4916-4878-b45e-1265bf825e27"
      },
      "source": [
        "kids_movies = netflix['listed_in'].str.contains('Children & Family Movies', case=False, regex=False)\n",
        "kids_tv = netflix['listed_in'].str.contains(\"Kids' TV\", case=False, regex=False)\n",
        "\n",
        "df_kids = netflix[kids_movies | kids_tv]\n",
        "df_kids.head()"
      ],
      "execution_count": null,
      "outputs": [
        {
          "output_type": "execute_result",
          "data": {
            "text/html": [
              "<div>\n",
              "<style scoped>\n",
              "    .dataframe tbody tr th:only-of-type {\n",
              "        vertical-align: middle;\n",
              "    }\n",
              "\n",
              "    .dataframe tbody tr th {\n",
              "        vertical-align: top;\n",
              "    }\n",
              "\n",
              "    .dataframe thead th {\n",
              "        text-align: right;\n",
              "    }\n",
              "</style>\n",
              "<table border=\"1\" class=\"dataframe\">\n",
              "  <thead>\n",
              "    <tr style=\"text-align: right;\">\n",
              "      <th></th>\n",
              "      <th>show_id</th>\n",
              "      <th>type</th>\n",
              "      <th>title</th>\n",
              "      <th>director</th>\n",
              "      <th>cast</th>\n",
              "      <th>country</th>\n",
              "      <th>date_added</th>\n",
              "      <th>release_year</th>\n",
              "      <th>rating</th>\n",
              "      <th>duration</th>\n",
              "      <th>listed_in</th>\n",
              "      <th>description</th>\n",
              "    </tr>\n",
              "  </thead>\n",
              "  <tbody>\n",
              "    <tr>\n",
              "      <th>108</th>\n",
              "      <td>s109</td>\n",
              "      <td>TV Show</td>\n",
              "      <td>3Below: Tales of Arcadia</td>\n",
              "      <td>No Director</td>\n",
              "      <td>Tatiana Maslany, Diego Luna, Nick Offerman, Ni...</td>\n",
              "      <td>United States</td>\n",
              "      <td>July 12, 2019</td>\n",
              "      <td>2019</td>\n",
              "      <td>TV-Y7</td>\n",
              "      <td>2 Seasons</td>\n",
              "      <td>Kids' TV, TV Action &amp; Adventure, TV Sci-Fi &amp; F...</td>\n",
              "      <td>After crash-landing on Earth, two royal teen a...</td>\n",
              "    </tr>\n",
              "    <tr>\n",
              "      <th>111</th>\n",
              "      <td>s112</td>\n",
              "      <td>TV Show</td>\n",
              "      <td>44 Cats</td>\n",
              "      <td>No Director</td>\n",
              "      <td>Sarah Natochenny, Suzy Myers, Simona Berman, E...</td>\n",
              "      <td>Italy</td>\n",
              "      <td>October 1, 2020</td>\n",
              "      <td>2018</td>\n",
              "      <td>TV-Y7</td>\n",
              "      <td>2 Seasons</td>\n",
              "      <td>Kids' TV</td>\n",
              "      <td>Paw-esome tales abound when singing furry frie...</td>\n",
              "    </tr>\n",
              "    <tr>\n",
              "      <th>113</th>\n",
              "      <td>s114</td>\n",
              "      <td>Movie</td>\n",
              "      <td>48 Christmas Wishes</td>\n",
              "      <td>Marco Deufemia, Justin G. Dyck</td>\n",
              "      <td>Khiyla Aynne, Noah Dyer, Maya Franzoi, Clara K...</td>\n",
              "      <td>Canada</td>\n",
              "      <td>December 20, 2017</td>\n",
              "      <td>2017</td>\n",
              "      <td>TV-G</td>\n",
              "      <td>84 min</td>\n",
              "      <td>Children &amp; Family Movies, Comedies</td>\n",
              "      <td>When a small town's letters to Santa accidenta...</td>\n",
              "    </tr>\n",
              "    <tr>\n",
              "      <th>145</th>\n",
              "      <td>s146</td>\n",
              "      <td>Movie</td>\n",
              "      <td>A 2nd Chance</td>\n",
              "      <td>Clay Glen</td>\n",
              "      <td>Nina Pearce, Adam Tuominen, Emily Morris, Amy ...</td>\n",
              "      <td>Australia</td>\n",
              "      <td>July 1, 2017</td>\n",
              "      <td>2011</td>\n",
              "      <td>PG</td>\n",
              "      <td>95 min</td>\n",
              "      <td>Children &amp; Family Movies, Dramas, Sports Movies</td>\n",
              "      <td>A gymnast lacks the confidence she needs to re...</td>\n",
              "    </tr>\n",
              "    <tr>\n",
              "      <th>147</th>\n",
              "      <td>s148</td>\n",
              "      <td>Movie</td>\n",
              "      <td>A Babysitter's Guide to Monster Hunting</td>\n",
              "      <td>Rachel Talalay</td>\n",
              "      <td>Tamara Smart, Oona Laurence, Tom Felton, Troy ...</td>\n",
              "      <td>United States</td>\n",
              "      <td>October 15, 2020</td>\n",
              "      <td>2020</td>\n",
              "      <td>TV-PG</td>\n",
              "      <td>99 min</td>\n",
              "      <td>Children &amp; Family Movies</td>\n",
              "      <td>Recruited by a secret society of babysitters, ...</td>\n",
              "    </tr>\n",
              "  </tbody>\n",
              "</table>\n",
              "</div>"
            ],
            "text/plain": [
              "    show_id  ...                                        description\n",
              "108    s109  ...  After crash-landing on Earth, two royal teen a...\n",
              "111    s112  ...  Paw-esome tales abound when singing furry frie...\n",
              "113    s114  ...  When a small town's letters to Santa accidenta...\n",
              "145    s146  ...  A gymnast lacks the confidence she needs to re...\n",
              "147    s148  ...  Recruited by a secret society of babysitters, ...\n",
              "\n",
              "[5 rows x 12 columns]"
            ]
          },
          "metadata": {
            "tags": []
          },
          "execution_count": 51
        }
      ]
    },
    {
      "cell_type": "code",
      "metadata": {
        "colab": {
          "base_uri": "https://localhost:8080/",
          "height": 330
        },
        "id": "VoxsqkWsxq7K",
        "outputId": "9cf1591e-d21d-4d7e-c5c4-cc20a5e9f62b"
      },
      "source": [
        "plot = sns.countplot(x=\"type\", data=df_kids)\n",
        "df_kids[\"type\"].value_counts()"
      ],
      "execution_count": null,
      "outputs": [
        {
          "output_type": "execute_result",
          "data": {
            "text/plain": [
              "Movie      532\n",
              "TV Show    411\n",
              "Name: type, dtype: int64"
            ]
          },
          "metadata": {
            "tags": []
          },
          "execution_count": 52
        },
        {
          "output_type": "display_data",
          "data": {
            "image/png": "[encoded data removed]",
            "text/plain": [
              "<Figure size 432x288 with 1 Axes>"
            ]
          },
          "metadata": {
            "tags": [],
            "needs_background": "light"
          }
        }
      ]
    },
    {
      "cell_type": "markdown",
      "metadata": {
        "id": "POBIzero0bN0"
      },
      "source": [
        "### Stand-Up Comedy on Netflix\n",
        "\n",
        "Show Stand-Up Comedy content on Netflix"
      ]
    },
    {
      "cell_type": "code",
      "metadata": {
        "id": "y4lfw7YeFj0y",
        "colab": {
          "base_uri": "https://localhost:8080/",
          "height": 572
        },
        "outputId": "e8f822b3-075f-4d9f-df6b-522e05b49d4b"
      },
      "source": [
        "filtered_genres = netflix.set_index('title').listed_in.str.split(', ', expand=True).stack().reset_index(level=1, drop=True);\n",
        "plt.figure(figsize=(10,10))\n",
        "g = sns.countplot(y = filtered_genres, order=filtered_genres.value_counts().index[:20])\n",
        "plt.title('Top 20 Genres on Netflix')\n",
        "plt.xlabel('Titles')\n",
        "plt.ylabel('Genres')\n",
        "plt.show()"
      ],
      "execution_count": null,
      "outputs": [
        {
          "output_type": "display_data",
          "data": {
            "image/png": "[encoded data removed]",
            "text/plain": [
              "<Figure size 720x720 with 1 Axes>"
            ]
          },
          "metadata": {
            "tags": [],
            "needs_background": "light"
          }
        }
      ]
    },
    {
      "cell_type": "code",
      "metadata": {
        "colab": {
          "base_uri": "https://localhost:8080/",
          "height": 602
        },
        "id": "kM1iMCQXxW03",
        "outputId": "1e525d72-2e63-4cbe-94ae-3c1330a4ac5c"
      },
      "source": [
        "standup = netflix['listed_in'].str.contains(\"Stand-Up Comedy\", case=False, regex=False)\n",
        "\n",
        "df_standup = netflix[standup]\n",
        "df_standup.head()"
      ],
      "execution_count": null,
      "outputs": [
        {
          "output_type": "execute_result",
          "data": {
            "text/html": [
              "<div>\n",
              "<style scoped>\n",
              "    .dataframe tbody tr th:only-of-type {\n",
              "        vertical-align: middle;\n",
              "    }\n",
              "\n",
              "    .dataframe tbody tr th {\n",
              "        vertical-align: top;\n",
              "    }\n",
              "\n",
              "    .dataframe thead th {\n",
              "        text-align: right;\n",
              "    }\n",
              "</style>\n",
              "<table border=\"1\" class=\"dataframe\">\n",
              "  <thead>\n",
              "    <tr style=\"text-align: right;\">\n",
              "      <th></th>\n",
              "      <th>show_id</th>\n",
              "      <th>type</th>\n",
              "      <th>title</th>\n",
              "      <th>director</th>\n",
              "      <th>cast</th>\n",
              "      <th>country</th>\n",
              "      <th>date_added</th>\n",
              "      <th>release_year</th>\n",
              "      <th>rating</th>\n",
              "      <th>duration</th>\n",
              "      <th>listed_in</th>\n",
              "      <th>description</th>\n",
              "    </tr>\n",
              "  </thead>\n",
              "  <tbody>\n",
              "    <tr>\n",
              "      <th>197</th>\n",
              "      <td>s198</td>\n",
              "      <td>TV Show</td>\n",
              "      <td>A Little Help with Carol Burnett</td>\n",
              "      <td>No Director</td>\n",
              "      <td>Carol Burnett, Russell Peters, Mark Cuban, Tar...</td>\n",
              "      <td>United States</td>\n",
              "      <td>May 4, 2018</td>\n",
              "      <td>2018</td>\n",
              "      <td>TV-G</td>\n",
              "      <td>1 Season</td>\n",
              "      <td>Stand-Up Comedy &amp; Talk Shows, TV Comedies</td>\n",
              "      <td>Comedy icon Carol Burnett returns to TV with a...</td>\n",
              "    </tr>\n",
              "    <tr>\n",
              "      <th>220</th>\n",
              "      <td>s221</td>\n",
              "      <td>Movie</td>\n",
              "      <td>A Russell Peters Christmas</td>\n",
              "      <td>Henry Sarwer-Foner</td>\n",
              "      <td>Russell Peters, Pamela Anderson, Michael Bublé...</td>\n",
              "      <td>Canada</td>\n",
              "      <td>November 1, 2013</td>\n",
              "      <td>2011</td>\n",
              "      <td>NR</td>\n",
              "      <td>44 min</td>\n",
              "      <td>Stand-Up Comedy</td>\n",
              "      <td>Inspired by the variety shows of the 1970s, \"A...</td>\n",
              "    </tr>\n",
              "    <tr>\n",
              "      <th>284</th>\n",
              "      <td>s285</td>\n",
              "      <td>TV Show</td>\n",
              "      <td>Abnormal Summit</td>\n",
              "      <td>Jung-ah Im, Seung-uk Jo</td>\n",
              "      <td>Hyun-moo Jun, Si-kyung Sung, Se-yoon Yoo</td>\n",
              "      <td>South Korea</td>\n",
              "      <td>August 4, 2017</td>\n",
              "      <td>2017</td>\n",
              "      <td>TV-PG</td>\n",
              "      <td>2 Seasons</td>\n",
              "      <td>International TV Shows, Korean TV Shows, Stand...</td>\n",
              "      <td>Led by a trio of Korean celebs, a multinationa...</td>\n",
              "    </tr>\n",
              "    <tr>\n",
              "      <th>305</th>\n",
              "      <td>s306</td>\n",
              "      <td>Movie</td>\n",
              "      <td>Adam Devine: Best Time of Our Lives</td>\n",
              "      <td>Jay Karas</td>\n",
              "      <td>Adam Devine</td>\n",
              "      <td>United States</td>\n",
              "      <td>June 18, 2019</td>\n",
              "      <td>2019</td>\n",
              "      <td>TV-MA</td>\n",
              "      <td>59 min</td>\n",
              "      <td>Stand-Up Comedy</td>\n",
              "      <td>Frenetic comic Adam Devine talks teen awkwardn...</td>\n",
              "    </tr>\n",
              "    <tr>\n",
              "      <th>307</th>\n",
              "      <td>s308</td>\n",
              "      <td>Movie</td>\n",
              "      <td>ADAM SANDLER 100% FRESH</td>\n",
              "      <td>Steve Brill</td>\n",
              "      <td>Adam Sandler</td>\n",
              "      <td>United States</td>\n",
              "      <td>October 23, 2018</td>\n",
              "      <td>2018</td>\n",
              "      <td>TV-MA</td>\n",
              "      <td>74 min</td>\n",
              "      <td>Stand-Up Comedy</td>\n",
              "      <td>From \"Heroes\" to \"Ice Cream Ladies\" – Adam San...</td>\n",
              "    </tr>\n",
              "  </tbody>\n",
              "</table>\n",
              "</div>"
            ],
            "text/plain": [
              "    show_id  ...                                        description\n",
              "197    s198  ...  Comedy icon Carol Burnett returns to TV with a...\n",
              "220    s221  ...  Inspired by the variety shows of the 1970s, \"A...\n",
              "284    s285  ...  Led by a trio of Korean celebs, a multinationa...\n",
              "305    s306  ...  Frenetic comic Adam Devine talks teen awkwardn...\n",
              "307    s308  ...  From \"Heroes\" to \"Ice Cream Ladies\" – Adam San...\n",
              "\n",
              "[5 rows x 12 columns]"
            ]
          },
          "metadata": {
            "tags": []
          },
          "execution_count": 53
        }
      ]
    },
    {
      "cell_type": "markdown",
      "metadata": {
        "id": "5rfdbmiE0q9b"
      },
      "source": [
        "### Highest Rated Shows on Netflix\n",
        "\n",
        "The amount of shows with different ratings"
      ]
    },
    {
      "cell_type": "code",
      "metadata": {
        "id": "sC1AnEgjyp4a",
        "colab": {
          "base_uri": "https://localhost:8080/",
          "height": 570
        },
        "outputId": "71429cd1-4292-4dc2-d092-64456e23c66a"
      },
      "source": [
        "plt.figure(figsize=(12,10))\n",
        "sns.countplot(x=\"rating\", data = netflix, palette = \"Set1\", order = netflix['rating'].value_counts().index[0:15])"
      ],
      "execution_count": null,
      "outputs": [
        {
          "output_type": "execute_result",
          "data": {
            "text/plain": [
              "<matplotlib.axes._subplots.AxesSubplot at 0x7f256881ea90>"
            ]
          },
          "metadata": {
            "tags": []
          },
          "execution_count": 57
        },
        {
          "output_type": "display_data",
          "data": {
            "image/png": "[encoded data removed]",
            "text/plain": [
              "<Figure size 864x720 with 1 Axes>"
            ]
          },
          "metadata": {
            "tags": [],
            "needs_background": "light"
          }
        }
      ]
    },
    {
      "cell_type": "code",
      "metadata": {
        "id": "xAY51kG7oGpC"
      },
      "source": [
        ""
      ],
      "execution_count": null,
      "outputs": []
    }
  ]
}